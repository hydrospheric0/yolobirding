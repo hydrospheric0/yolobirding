{
 "cells": [
  {
   "cell_type": "code",
   "execution_count": 8,
   "id": "a9950c80-de99-425b-982e-d25fd0a341ef",
   "metadata": {},
   "outputs": [
    {
     "data": {
      "application/vnd.jupyter.widget-view+json": {
       "model_id": "bf4321b33aab4fdea4b3260241585766",
       "version_major": 2,
       "version_minor": 0
      },
      "text/plain": [
       "Dropdown(description='Species:', options=(\"Allen's Hummingbird\", 'American Golden-Plover', 'American Redstart'…"
      ]
     },
     "metadata": {},
     "output_type": "display_data"
    },
    {
     "data": {
      "application/vnd.jupyter.widget-view+json": {
       "model_id": "8aa07893477d4942be650acb95579e37",
       "version_major": 2,
       "version_minor": 0
      },
      "text/plain": [
       "Output()"
      ]
     },
     "metadata": {},
     "output_type": "display_data"
    },
    {
     "data": {
      "application/vnd.jupyter.widget-view+json": {
       "model_id": "48b5249bffe341f1adafb73f46f8a6ca",
       "version_major": 2,
       "version_minor": 0
      },
      "text/plain": [
       "Output()"
      ]
     },
     "metadata": {},
     "output_type": "display_data"
    }
   ],
   "source": [
    "import pandas as pd\n",
    "import numpy as np\n",
    "import matplotlib.pyplot as plt\n",
    "import datetime\n",
    "import leafmap.foliumap as leafmap\n",
    "from IPython.display import display\n",
    "import ipywidgets as widgets\n",
    "import matplotlib.transforms as transforms\n",
    "\n",
    "# Load the processed data\n",
    "df = pd.read_csv('4s_5s.csv')\n",
    "df['OBSERVATION DATE'] = pd.to_datetime(df['OBSERVATION DATE'])  # Ensure datetime format\n",
    "\n",
    "# Drop duplicates to keep only the first observation of each species per year\n",
    "first_observations = df.drop_duplicates(subset=['COMMON NAME', 'YEAR'], keep='first')\n",
    "def interactive_bird_observations(df):\n",
    "    df.reset_index(drop=True, inplace=True)  # Reset the DataFrame index\n",
    "    species_list = sorted(df['COMMON NAME'].unique())\n",
    "    dropdown = widgets.Dropdown(\n",
    "        options=species_list,\n",
    "        value=species_list[0],\n",
    "        description='Species:',\n",
    "        disabled=False,\n",
    "    )\n",
    "\n",
    "    output_map = widgets.Output()\n",
    "    output_plot = widgets.Output()\n",
    "\n",
    "    def update_visuals(species):\n",
    "        # Update scatter plot\n",
    "        output_plot.clear_output(wait=True)\n",
    "        with output_plot:\n",
    "            species_df = df[df['COMMON NAME'] == species].copy()\n",
    "            species_df['OBSERVATION DATE'] = pd.to_datetime(species_df['OBSERVATION DATE'])\n",
    "            species_df['DAY OF YEAR'] = species_df['OBSERVATION DATE'].dt.dayofyear\n",
    "            fig, ax = plt.subplots(figsize=(8, 0.3))\n",
    "            ax.scatter(species_df['DAY OF YEAR'], np.zeros_like(species_df['DAY OF YEAR']), alpha=0.5, color='blue')\n",
    "            setup_plot(ax, species)\n",
    "            plt.show()\n",
    "\n",
    "        # Update map\n",
    "        output_map.clear_output(wait=True)\n",
    "        with output_map:\n",
    "            m = leafmap.Map(center=[df['LATITUDE'].mean(), df['LONGITUDE'].mean()], zoom=10)\n",
    "            filtered_data = df[df['COMMON NAME'] == species].copy()\n",
    "            if not filtered_data.empty:\n",
    "                m.add_points_from_xy(\n",
    "                    data=filtered_data, \n",
    "                    x=\"LONGITUDE\", \n",
    "                    y=\"LATITUDE\", \n",
    "                    color=\"red\", \n",
    "                    fill_color=\"blue\",\n",
    "                    size=5\n",
    "                )\n",
    "            display(m)\n",
    "\n",
    "    def setup_plot(ax, species):\n",
    "        current_date = datetime.datetime.now()\n",
    "        current_day_of_year = current_date.timetuple().tm_yday\n",
    "        week_start = current_day_of_year - current_date.weekday()\n",
    "        week_end = week_start + 7\n",
    "    \n",
    "        # Original tick positions for months\n",
    "        month_ticks = [1, 32, 60, 91, 121, 152, 182, 213, 244, 274, 305, 335, 366]\n",
    "        # Month names for labels\n",
    "        month_labels = ['Jan', 'Feb', 'Mar', 'Apr', 'May', 'Jun', 'Jul', 'Aug', 'Sep', 'Oct', 'Nov', 'Dec', 'Jan']\n",
    "    \n",
    "        # Calculate midpoints to position the labels\n",
    "        midpoints = [(month_ticks[i] + month_ticks[i + 1]) / 2 for i in range(len(month_ticks) - 1)]\n",
    "    \n",
    "        # Set the ticks without labels\n",
    "        ax.set_xticks(month_ticks)\n",
    "        ax.set_xticklabels([])  # Hide default numerical labels\n",
    "    \n",
    "        # Set custom tick labels manually positioned to the midpoints\n",
    "        for i, label in enumerate(month_labels[:-1]):  # Exclude the last redundant 'Jan' label\n",
    "            trans = transforms.blended_transform_factory(ax.transData, ax.transAxes)\n",
    "            ax.text(midpoints[i], 0, label, transform=trans, ha='center', va='top', rotation=0)\n",
    "    \n",
    "        # Add red highlight for the current week\n",
    "        ax.axvspan(week_start, week_end, color='red', alpha=0.2)\n",
    "    \n",
    "        # Plot settings\n",
    "        ax.set_title(species, loc='left', fontsize=10, verticalalignment='top')\n",
    "        ax.set_yticks([])\n",
    "        ax.set_xlim(1, 366)\n",
    "        ax.grid(True)\n",
    "\n",
    "\n",
    "    dropdown.observe(lambda change: update_visuals(change.new), names='value')\n",
    "    display(dropdown, output_plot, output_map)\n",
    "    update_visuals(dropdown.value)  # Initial visualization\n",
    "\n",
    "# Assuming 'first_observations' is your DataFrame\n",
    "interactive_bird_observations(df)\n"
   ]
  },
  {
   "cell_type": "code",
   "execution_count": 12,
   "id": "e790cfb0-08a7-4d78-b8e7-5fc815e2f3d9",
   "metadata": {},
   "outputs": [
    {
     "name": "stdout",
     "output_type": "stream",
     "text": [
      "pipreqs  --force /home/hydrospheric/PERSONAL/CODE/BIRDS/eBird_yolo/webapp/\n",
      "INFO: Not scanning for jupyter notebooks.\n",
      "INFO: Successfully saved requirements file in /home/hydrospheric/PERSONAL/CODE/BIRDS/eBird_yolo/webapp/requirements.txt\n"
     ]
    }
   ],
   "source": [
    "!pipreqsnb --force \"/home/hydrospheric/PERSONAL/CODE/BIRDS/eBird_yolo/webapp/\""
   ]
  },
  {
   "cell_type": "code",
   "execution_count": null,
   "id": "9ab00746-4b05-4c4b-afca-4be0bfb6be0c",
   "metadata": {},
   "outputs": [],
   "source": []
  }
 ],
 "metadata": {
  "kernelspec": {
   "display_name": "Python 3 (ipykernel)",
   "language": "python",
   "name": "python3"
  },
  "language_info": {
   "codemirror_mode": {
    "name": "ipython",
    "version": 3
   },
   "file_extension": ".py",
   "mimetype": "text/x-python",
   "name": "python",
   "nbconvert_exporter": "python",
   "pygments_lexer": "ipython3",
   "version": "3.10.12"
  }
 },
 "nbformat": 4,
 "nbformat_minor": 5
}
